{
 "cells": [
  {
   "cell_type": "code",
   "execution_count": 1,
   "metadata": {},
   "outputs": [
    {
     "name": "stdout",
     "output_type": "stream",
     "text": [
      "output for the case x0 = y0 = 2: 1.4493948186970358\n"
     ]
    }
   ],
   "source": [
    "def gauss_quadrature_2d(f, a, b, n):\n",
    "    # Gauss-Legendre nodes and weights for the interval [-1, 1]\n",
    "    nodes = [-0.9061798459, -0.5384693101, 0, 0.5384693101, 0.9061798459]\n",
    "    weights = [0.2369268851, 0.4786286705, 0.5688888889, 0.4786286705, 0.2369268851]\n",
    "\n",
    "    integral = 0\n",
    "    for i in range(n):\n",
    "        for j in range(n):\n",
    "            xi = a + (b - a) / 2 * (nodes[i] + 1)\n",
    "            yi = a + (b - a) / 2 * (nodes[j] + 1)\n",
    "            integral += weights[i] * weights[j] * f(xi, yi)\n",
    "\n",
    "    return integral * ((b - a) / 2)**2\n",
    "\n",
    "def integrand(x, y):\n",
    "    return 1 / ((x - 2)**2 + (y - 2)**2)**0.5\n",
    "\n",
    "result = gauss_quadrature_2d(integrand, -1, 1, 5)\n",
    "print(\"output for the case x0 = y0 = 2:\", result)"
   ]
  },
  {
   "cell_type": "code",
   "execution_count": 4,
   "metadata": {},
   "outputs": [
    {
     "name": "stdout",
     "output_type": "stream",
     "text": [
      "output for the case x0 = -3 & y0 = 2: 1.1249445364372\n"
     ]
    }
   ],
   "source": [
    "def gauss_quadrature_2d(f, a, b, n):\n",
    "    # Gauss-Legendre nodes and weights for the interval [-1, 1]\n",
    "    nodes = [-0.9061798459, -0.5384693101, 0, 0.5384693101, 0.9061798459]\n",
    "    weights = [0.2369268851, 0.4786286705, 0.5688888889, 0.4786286705, 0.2369268851]\n",
    "\n",
    "    integral = 0\n",
    "    for i in range(n):\n",
    "        for j in range(n):\n",
    "            xi = a + (b - a) / 2 * (nodes[i] + 1)\n",
    "            yi = a + (b - a) / 2 * (nodes[j] + 1)\n",
    "            integral += weights[i] * weights[j] * f(xi, yi)\n",
    "\n",
    "    return integral * ((b - a) / 2)**2\n",
    "\n",
    "def integrand(x, y):\n",
    "    return 1 / ((x + 3)**2 + (y - 2)**2)**0.5\n",
    "\n",
    "result = gauss_quadrature_2d(integrand, -1, 1, 5)\n",
    "print(\"output for the case x0 = -3 & y0 = 2:\", result)"
   ]
  },
  {
   "cell_type": "code",
   "execution_count": 6,
   "metadata": {},
   "outputs": [
    {
     "name": "stdout",
     "output_type": "stream",
     "text": [
      "output for the case x0 = +3 & y0 = -2: 1.1249445364372002\n"
     ]
    }
   ],
   "source": [
    "def gauss_quadrature_2d(f, a, b, n):\n",
    "    # Gauss-Legendre nodes and weights for the interval [-1, 1]\n",
    "    nodes = [-0.9061798459, -0.5384693101, 0, 0.5384693101, 0.9061798459]\n",
    "    weights = [0.2369268851, 0.4786286705, 0.5688888889, 0.4786286705, 0.2369268851]\n",
    "\n",
    "    integral = 0\n",
    "    for i in range(n):\n",
    "        for j in range(n):\n",
    "            xi = a + (b - a) / 2 * (nodes[i] + 1)\n",
    "            yi = a + (b - a) / 2 * (nodes[j] + 1)\n",
    "            integral += weights[i] * weights[j] * f(xi, yi)\n",
    "\n",
    "    return integral * ((b - a) / 2)**2\n",
    "\n",
    "def integrand(x, y):\n",
    "    return 1 / ((x - 3)**2 + (y + 2)**2)**0.5\n",
    "\n",
    "result = gauss_quadrature_2d(integrand, -1, 1, 5)\n",
    "print(\"output for the case x0 = +3 & y0 = -2:\", result)"
   ]
  }
 ],
 "metadata": {
  "kernelspec": {
   "display_name": "Python 3",
   "language": "python",
   "name": "python3"
  },
  "language_info": {
   "codemirror_mode": {
    "name": "ipython",
    "version": 3
   },
   "file_extension": ".py",
   "mimetype": "text/x-python",
   "name": "python",
   "nbconvert_exporter": "python",
   "pygments_lexer": "ipython3",
   "version": "3.8.10"
  }
 },
 "nbformat": 4,
 "nbformat_minor": 2
}
