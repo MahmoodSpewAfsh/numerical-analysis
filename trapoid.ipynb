{
 "cells": [
  {
   "cell_type": "code",
   "execution_count": 1,
   "metadata": {},
   "outputs": [],
   "source": [
    "import numpy as np\n",
    "\n",
    "import matplotlib.pyplot as plt\n",
    "\n",
    "%matplotlib inline"
   ]
  },
  {
   "cell_type": "code",
   "execution_count": 4,
   "metadata": {},
   "outputs": [],
   "source": [
    "def trapz(f,a,b,N=50):\n",
    "\n",
    "\n",
    "\n",
    "    x = np.linspace(a,b,N+1)\n",
    "    p = np.linspace(a,b,N+1)\n",
    "    X, P = np.meshgrid(x, p)\n",
    "\n",
    "    y = f(X, P)\n",
    "\n",
    "    y_right = y[1:] # Right endpoints\n",
    "\n",
    "    y_left = y[:-1] # Left endpoints\n",
    "    dx = (b - a)/N\n",
    "    dp = (b - a)/N\n",
    "\n",
    "    T = (dx/2) * dp * np.sum(y_right + y_left)\n",
    "\n",
    "    return T"
   ]
  },
  {
   "cell_type": "code",
   "execution_count": 5,
   "metadata": {},
   "outputs": [
    {
     "name": "stdout",
     "output_type": "stream",
     "text": [
      "for the case x0 = y0 = 2 we have the integral equals = 1.4495439766415397\n",
      "for the case x0 = y0 = 2 we have the integral equals = 1.12506045730097\n",
      "for the case x0 = y0 = 2 we have the integral equals = 1.1250604573009646\n"
     ]
    }
   ],
   "source": [
    "print(\"for the case x0 = y0 = 2 we have the integral equals = {}\".format(trapz(lambda x, p : ((x-2)**2+(p-2)**2)**(-1/2),-1,1,10000))) # number of points are 10000\n",
    "print(\"for the case x0 = y0 = 2 we have the integral equals = {}\".format(trapz(lambda x, p : ((x+3)**2+(p-2)**2)**(-1/2),-1,1,10000))) # number of points are 10000\n",
    "print(\"for the case x0 = y0 = 2 we have the integral equals = {}\".format(trapz(lambda x, p : ((x-3)**2+(p+2)**2)**(-1/2),-1,1,10000))) # number of points are 10000"
   ]
  }
 ],
 "metadata": {
  "kernelspec": {
   "display_name": "Python 3",
   "language": "python",
   "name": "python3"
  },
  "language_info": {
   "codemirror_mode": {
    "name": "ipython",
    "version": 3
   },
   "file_extension": ".py",
   "mimetype": "text/x-python",
   "name": "python",
   "nbconvert_exporter": "python",
   "pygments_lexer": "ipython3",
   "version": "3.8.10"
  }
 },
 "nbformat": 4,
 "nbformat_minor": 2
}
