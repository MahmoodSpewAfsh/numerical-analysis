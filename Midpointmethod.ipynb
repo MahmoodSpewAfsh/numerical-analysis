{
 "cells": [
  {
   "cell_type": "code",
   "execution_count": 1,
   "metadata": {},
   "outputs": [],
   "source": [
    "import numpy as np"
   ]
  },
  {
   "cell_type": "code",
   "execution_count": 2,
   "metadata": {},
   "outputs": [
    {
     "name": "stdout",
     "output_type": "stream",
     "text": [
      "using Midpoint Method for x0 = y0 = 2: 1.449024132909301\n"
     ]
    }
   ],
   "source": [
    "# Define the function to be integrated\n",
    "def F(x, y):\n",
    "    return 1 / np.sqrt((x - 2)**2 + (y - 2)**2)\n",
    "\n",
    "# Define the limits of integration for x and y\n",
    "Ix_lower = -1\n",
    "Ix_upper = 1\n",
    "Iy_lower = -1\n",
    "Iy_upper = 1\n",
    "\n",
    "# Number of subintervals for each axis\n",
    "n_x = 10\n",
    "n_y = 10\n",
    "\n",
    "\n",
    "\n",
    "I = 0\n",
    "\n",
    "# Step sizes \n",
    "dx = (Ix_upper - Ix_lower) / n_x\n",
    "dy = (Iy_upper - Iy_lower) / n_y\n",
    "\n",
    "\n",
    "# Midpoint method\n",
    "for i in range(n_x):\n",
    "    for j in range(n_y):\n",
    "        x_midpoint = Ix_lower + (i + 0.5) * dx\n",
    "        y_midpoint = Iy_lower + (j + 0.5) * dy\n",
    "        I += F(x_midpoint, y_midpoint) * dx * dy\n",
    "\n",
    "print(\"using Midpoint Method for x0 = y0 = 2:\", I)"
   ]
  },
  {
   "cell_type": "code",
   "execution_count": 3,
   "metadata": {},
   "outputs": [
    {
     "name": "stdout",
     "output_type": "stream",
     "text": [
      "using Midpoint Method for x0 = -3 & y0 = 2: 1.1247829423041629\n"
     ]
    }
   ],
   "source": [
    "# Define the function to be integrated\n",
    "def F(x, y):\n",
    "    return 1 / np.sqrt((x + 3)**2 + (y - 2)**2)\n",
    "\n",
    "# Define the limits of integration for x and y\n",
    "Ix_lower = -1\n",
    "Ix_upper = 1\n",
    "Iy_lower = -1\n",
    "Iy_upper = 1\n",
    "\n",
    "# Number of subintervals for each axis\n",
    "n_x = 10\n",
    "n_y = 10\n",
    "\n",
    "\n",
    "\n",
    "I = 0\n",
    "\n",
    "# Step sizes \n",
    "dx = (Ix_upper - Ix_lower) / n_x\n",
    "dy = (Iy_upper - Iy_lower) / n_y\n",
    "\n",
    "\n",
    "# Midpoint method\n",
    "for i in range(n_x):\n",
    "    for j in range(n_y):\n",
    "        x_midpoint = Ix_lower + (i + 0.5) * dx\n",
    "        y_midpoint = Iy_lower + (j + 0.5) * dy\n",
    "        I += F(x_midpoint, y_midpoint) * dx * dy\n",
    "\n",
    "print(\"using Midpoint Method for x0 = -3 & y0 = 2:\", I)"
   ]
  },
  {
   "cell_type": "code",
   "execution_count": 4,
   "metadata": {},
   "outputs": [
    {
     "name": "stdout",
     "output_type": "stream",
     "text": [
      "using Midpoint Method for x0 = 3 & y0 = -2: 1.1247829423041626\n"
     ]
    }
   ],
   "source": [
    "# Define the function to be integrated\n",
    "def F(x, y):\n",
    "    return 1 / np.sqrt((x - 3)**2 + (y + 2)**2)\n",
    "\n",
    "# Define the limits of integration for x and y\n",
    "Ix_lower = -1\n",
    "Ix_upper = 1\n",
    "Iy_lower = -1\n",
    "Iy_upper = 1\n",
    "\n",
    "# Number of subintervals for each axis\n",
    "n_x = 10\n",
    "n_y = 10\n",
    "\n",
    "\n",
    "\n",
    "I = 0\n",
    "\n",
    "# Step sizes \n",
    "dx = (Ix_upper - Ix_lower) / n_x\n",
    "dy = (Iy_upper - Iy_lower) / n_y\n",
    "\n",
    "\n",
    "# Midpoint method\n",
    "for i in range(n_x):\n",
    "    for j in range(n_y):\n",
    "        x_midpoint = Ix_lower + (i + 0.5) * dx\n",
    "        y_midpoint = Iy_lower + (j + 0.5) * dy\n",
    "        I += F(x_midpoint, y_midpoint) * dx * dy\n",
    "\n",
    "print(\"using Midpoint Method for x0 = 3 & y0 = -2:\", I)"
   ]
  }
 ],
 "metadata": {
  "kernelspec": {
   "display_name": "Python 3",
   "language": "python",
   "name": "python3"
  },
  "language_info": {
   "codemirror_mode": {
    "name": "ipython",
    "version": 3
   },
   "file_extension": ".py",
   "mimetype": "text/x-python",
   "name": "python",
   "nbconvert_exporter": "python",
   "pygments_lexer": "ipython3",
   "version": "3.8.10"
  }
 },
 "nbformat": 4,
 "nbformat_minor": 2
}
